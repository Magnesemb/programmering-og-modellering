{
 "cells": [
  {
   "cell_type": "code",
   "execution_count": 10,
   "metadata": {},
   "outputs": [
    {
     "name": "stdout",
     "output_type": "stream",
     "text": [
      "Sf(x)dx = 17.99909999999999 \n",
      "Sg(x)dx = 5.999550045000013 \n",
      "Sh(x)dx = 51.87208661355339\n"
     ]
    }
   ],
   "source": [
    "from pylab import *\n",
    "\n",
    "\n",
    "def integrasjon(f, a, b, N):\n",
    "    A = 0\n",
    "    dx = (b - a)/N\n",
    "    for i in range(N):\n",
    "        A += f(a + i*dx)*dx\n",
    "    return A\n",
    "\n",
    "def f(x):\n",
    "    return 2*x +1\n",
    "\n",
    "def g(x):\n",
    "    return x**2 +-4*x + 5\n",
    "\n",
    "def h(x):\n",
    "    return e**x\n",
    "\n",
    "\n",
    "N = 10000\n",
    "\n",
    "intf = integrasjon(f, 1, 4, N)\n",
    "intg = integrasjon(g, 1, 4, N)\n",
    "inth = integrasjon(h, 1, 4, N)\n",
    "    \n",
    "\n",
    "print(f\"Sf(x)dx = {intf} \\nSg(x)dx = {intg} \\nSh(x)dx = {inth}\")"
   ]
  },
  {
   "cell_type": "code",
   "execution_count": null,
   "metadata": {},
   "outputs": [],
   "source": []
  }
 ],
 "metadata": {
  "kernelspec": {
   "display_name": "Python 3",
   "language": "python",
   "name": "python3"
  },
  "language_info": {
   "codemirror_mode": {
    "name": "ipython",
    "version": 3
   },
   "file_extension": ".py",
   "mimetype": "text/x-python",
   "name": "python",
   "nbconvert_exporter": "python",
   "pygments_lexer": "ipython3",
   "version": "3.8.3"
  }
 },
 "nbformat": 4,
 "nbformat_minor": 4
}
