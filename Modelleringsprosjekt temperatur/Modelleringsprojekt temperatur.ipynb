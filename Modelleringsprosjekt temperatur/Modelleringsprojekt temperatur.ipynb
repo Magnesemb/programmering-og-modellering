{
 "cells": [
  {
   "cell_type": "markdown",
   "metadata": {},
   "source": [
    "# Modelleringsprosjekt temperatur på jorda"
   ]
  },
  {
   "cell_type": "markdown",
   "metadata": {},
   "source": [
    "# 1. Hensikt:\n",
    "Lage en enkel modell som kalkulerer gjennomsnittstemperatur på jordkloden, for å få et bedre innblikk i klimamodellering"
   ]
  },
  {
   "cell_type": "markdown",
   "metadata": {},
   "source": [
    "# 2. Teori:\n",
    "Alle modeller er forenklinger av virkeligheten, men noen er riktigere enn andre. Ved å ta hensyn til flere fenomener fra virkeligheten kan vi få modellene våre til å samsvare mer med virkeligheten. \n",
    "\n",
    "### Oppgave 1\n",
    "I første oppgave var målet å lage et program som kunne kalkulere gjennomsnittlig solinnstråling vertikalt på jordas atmosfære. For dette bruker man formelen:\n",
    "$$S = \\frac{solradius^2} {distanse_{sol-planet}^2} * varmestråling_{sol}$$\n",
    "\n",
    "Varmestråling fra sola finner du ved Stefan-Boltzmann lov:\n",
    "$$S = \\sigma T^4$$\n",
    "Der $\\sigma$ er Stefan-Boltzmann konstant og T er temperaturen til legemet målt i Kelvin.\n",
    "\n",
    "### Oppgave 2\n",
    "I andre oppgave skulle du lage et utrykk for gjennomsnittelig temperatur på jorden. Dette kan vi finne ved en omskrivning av Stefan-Boltzmanns lov:\n",
    "$$T = (\\frac{S}{4\\sigma})^{(1/4)}$$\n",
    "\n",
    "På grunn av energiprinnsippet kan vi si at Eut = Einn, ettersom jordas temperatur ikke øker eller minker betydelig nok til å ta hensyn til endringene i regningen. Altså sender jorda like mye varmestråling som den tar opp. Det er likevel ikke slik at denne mengden er den samme som solkonstanten, ettersom noe av strålingen reflekteres. Utrykket for mengden reflektert sollys kalles albedo og må taes hensyn til i bergningene. \n",
    "\n",
    "Vi antar også at jorden er en flat sikrel med konstant temperatur over hele. Vi kan gjøre denne antagelsen fordi jorden fra solen sitt perspektiv vil bli sett som en flat sirkel.\n",
    "\n",
    "### Oppgave 3\n",
    "I oppgave 3 forbedrer vi modellen fra oppgave 2, ved å ikke ignorere jordas atmosfære. Likevel bruker vi en svært forenklet modell av den, der vi gjør tre viktige (men ukorrekte) antakelser. \n",
    "1. Atmosfæren har konstant temperatur\n",
    "2. Atmosføren har slipper gjennom all stråling fra sola\n",
    "3. Atmosfæren tar opp all stråling fra jorden\n",
    "\n",
    "Denne atmosfæren er viktig for å gi oss et mer riktig bilde av jordens faktiske temperatur."
   ]
  },
  {
   "cell_type": "markdown",
   "metadata": {},
   "source": [
    "# 3. Resultater"
   ]
  },
  {
   "cell_type": "markdown",
   "metadata": {},
   "source": [
    "### Oppgave 1"
   ]
  },
  {
   "cell_type": "code",
   "execution_count": 61,
   "metadata": {
    "scrolled": true
   },
   "outputs": [
    {
     "name": "stdout",
     "output_type": "stream",
     "text": [
      "1369.3297797280723\n"
     ]
    }
   ],
   "source": [
    "dist = 149597870e3 #avstand fra sola til jorda i m\n",
    "r  = 696340e3 #radius sol i m\n",
    "T = 5778 #temperatur sol i kelvin\n",
    "sig = 5.6703e-8\n",
    "\n",
    "S = sig * T**4 #stråling sol\n",
    "Skonst = S * r**2 / dist**2 #gjennomsnittelig solinnstråling W/m^2\n",
    "\n",
    "print(Skonst)"
   ]
  },
  {
   "cell_type": "markdown",
   "metadata": {},
   "source": [
    "### Oppgave 2"
   ]
  },
  {
   "cell_type": "code",
   "execution_count": 62,
   "metadata": {},
   "outputs": [
    {
     "name": "stdout",
     "output_type": "stream",
     "text": [
      "-18.18238809979647\n"
     ]
    }
   ],
   "source": [
    "from math import pi\n",
    "\n",
    "\n",
    "r_jord = 6371e3 #radius jord, m\n",
    "a_jord = pi * r_jord**2 #areal jord (flat sirkel), m^2\n",
    "albedo = 0.3\n",
    "E_jord = Skonst*(1-albedo)\n",
    "T_jord = ((E_jord)/(4*sig))**(1/4) #stefan-boltmannz lov for temperatur jord, K\n",
    "T_jord_c = T_jord - 273.15 #terperatur jord, C\n",
    "print(T_jord_c)\n"
   ]
  },
  {
   "cell_type": "markdown",
   "metadata": {},
   "source": [
    "### Oppgave 3"
   ]
  },
  {
   "cell_type": "code",
   "execution_count": 63,
   "metadata": {},
   "outputs": [
    {
     "name": "stdout",
     "output_type": "stream",
     "text": [
      "17.986895463988333\n"
     ]
    }
   ],
   "source": [
    "T_jord = (((Skonst/4*(1-albedo))+(E_jord/4*(1-albedo)))/(sig))**(1/4)\n",
    "T_jord_c = T_jord - 273.15\n",
    "print(T_jord_c)"
   ]
  },
  {
   "cell_type": "markdown",
   "metadata": {},
   "source": [
    "# 4. Diskusjon:\n",
    "### Oppgave 1\n",
    "I oppgave 1 får vi et svar som likner veldig på den målte solkonstanten. Forskjellene kan komme fra mindre avrundingsfeil, og naturvitenskapelige fenomener vi ikke tok med i utregningen. \n",
    "\n",
    "### Oppgave 2\n",
    "I modellen vår i oppgave 2 regner vi med at all strålingen fra sola treffer jordkloden, men at ikke alt absorberes. Vi tenker så at jorda sender ut igjen all strålingen den har absorbert, på grunn av at $E_{inn} = E_{ut}$ ved konstant temperatur i følge Energiprinsippet. Vi ser helt bort ifra atmosfæren vår og fenomener som drivhuseffekten, som her fører til at vi får et så lavt svar. De eneste faktorene vi tar med er mengden stråling som kommer fra sola, og hvor mye som blir reflektert av lyse overflater som snø og is. \n",
    "\n",
    "### Oppgave 3\n",
    "Her har vi lagt til en enkel atmosfære, som gjør resultatet noe mer realistisk. Her regnet jeg ut temperaturen på jorda på samme måte som i stad, men la til strålingen som kommer tilbake fra atmosfæren som en faktor. Denne regnet jeg ved å ta energien jorda sendte ut Vi tenker oss  I atmosfæren vår kommer all strålingen inn igjennom den, når det egentlig ikke stemmer virkeligheten. Den vil også ikke absorbere all stråling fra jorda. For å regne ut denne tok jeg strålingen sendt ut fra jorda i oppgave 2 og tenkte at atmosfæren ville ta opp cirka like mye energi som jorden, en antagelse jeg ikke vet om er helt korrekt. Jeg gjorde dette fordi jeg gikk ut ifra at Stefan-Boltzmanns lov fungerte i atmosfæren slik som på jorda. Altså at $S * (1-albedo) = \\sigma T^4$. Jeg la altså dette inn som x i likningen:\n",
    "$$\\sigma T^2 = S * (albedo-1) + x$$\n",
    "der x er strålingen fra atmosfæren. Jeg delte både verdien for S og $E_{ut}$ på 4, som tips fra \"støtte til modelleringsoppgave\", ettersom dette tar mere hensyn til jorden kuleform, og at det ikke egentlig treffer like mye stråling over alt. \n",
    "\n",
    "Modellen har fortsatt en del problemer. Den tar ikke med det som ble reflektert av jordens overflate og ikke ble absorbert. Den tar heller ikke hensyn til at atmosfæren ikke sender all strålingen tilbake til jorda, men heller sender ut i alle retninger. Slik som programmet er nå går bare strålingen frem og tilbake til atmofæren en gang, der noe av strålingen ville blitt sendt frem og tilbake flere ganger i virkeligheten. \n",
    "\n",
    "### Oppgave 4\n",
    "Ved oppgave fire gjorde jeg ingen endringer i selve programmet, fordi jeg ikke fant tallene jeg var ute etter på Google, men jeg har noen tanker på hvordan jeg kunne forbedret programmet mitt. Om jeg hadde funnet tall på hvor mye av solinnstrålingen som ikke kommer gjennom atmosfæren på vei til jorde, eller hvor mye som kom ut av atmosfæren som stråling fra jorda, kunne jeg lagt inn dette i programmet på liknende måte som albedoeffekten. Om du får mer realisktiske verdier for atmosfæren vil det også være lettere å lage en løkke, slik at du kan ta hensyn til at atmosfæren \"sender tilbake\" strålingen flere ganger, med litt mindre sendt hver gang. \n",
    "\n",
    "### Oppgave 5\n",
    "Etter litt knoting skjønner jeg dessverre ikke helt hvordan jeg skal løse denne oppgaven. Jeg fikk tenkt litt rundt det, og har noen idéer rund hvordan den kan løsen, men mangler noe sentralt for at jeg kan gjøre det i praksis. Jeg skjønner ikke helt hva jeg skal basere meg på for å måle temperaturforskjeller fra dag til dag. Håper det går bra."
   ]
  },
  {
   "cell_type": "markdown",
   "metadata": {},
   "source": [
    "# 5. Konklusjon\n",
    "Vi har lagd flere modeller for å forsøke å kalkulere gjennomsnittstemperaturen på jordkloden, med økende kompleksitet. Jo flere faktorer vi legger til i modellen vår, og jo mer avansert den er, jo mer samsvarer utregningen med de målte verdiene på jorda. \n",
    "\n",
    "For å forbedre modellen i fremtiden kan man blant kode en bedre, mer realisktisk atmosfære."
   ]
  }
 ],
 "metadata": {
  "kernelspec": {
   "display_name": "Python 3",
   "language": "python",
   "name": "python3"
  },
  "language_info": {
   "codemirror_mode": {
    "name": "ipython",
    "version": 3
   },
   "file_extension": ".py",
   "mimetype": "text/x-python",
   "name": "python",
   "nbconvert_exporter": "python",
   "pygments_lexer": "ipython3",
   "version": "3.8.3"
  }
 },
 "nbformat": 4,
 "nbformat_minor": 4
}
